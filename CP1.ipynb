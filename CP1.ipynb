{
  "nbformat": 4,
  "nbformat_minor": 0,
  "metadata": {
    "colab": {
      "provenance": [],
      "authorship_tag": "ABX9TyPQgKfJMByMkDkASWcwV4De",
      "include_colab_link": true
    },
    "kernelspec": {
      "name": "python3",
      "display_name": "Python 3"
    },
    "language_info": {
      "name": "python"
    }
  },
  "cells": [
    {
      "cell_type": "markdown",
      "metadata": {
        "id": "view-in-github",
        "colab_type": "text"
      },
      "source": [
        "<a href=\"https://colab.research.google.com/github/Juliana-de-Andrade/.NET-Mottu/blob/main/CP1.ipynb\" target=\"_parent\"><img src=\"https://colab.research.google.com/assets/colab-badge.svg\" alt=\"Open In Colab\"/></a>"
      ]
    },
    {
      "cell_type": "markdown",
      "source": [
        "Imports\n"
      ],
      "metadata": {
        "id": "M0pnIXd4hW4Y"
      }
    },
    {
      "cell_type": "code",
      "execution_count": null,
      "metadata": {
        "id": "X5ZkuvHBdLBh"
      },
      "outputs": [],
      "source": []
    },
    {
      "cell_type": "markdown",
      "source": [
        "1. Carregue o dataset e exiba as 10 primeiras linhas."
      ],
      "metadata": {
        "id": "xS8pSygFgFy4"
      }
    },
    {
      "cell_type": "code",
      "source": [],
      "metadata": {
        "id": "IhO7rHVcgHb4"
      },
      "execution_count": null,
      "outputs": []
    },
    {
      "cell_type": "code",
      "source": [],
      "metadata": {
        "id": "waOOobJdgHu4"
      },
      "execution_count": null,
      "outputs": []
    },
    {
      "cell_type": "markdown",
      "source": [
        "2. Explique a diferença entre as variáveis Global_active_power e Global_reactive_power."
      ],
      "metadata": {
        "id": "JCejjMvZgIEQ"
      }
    },
    {
      "cell_type": "code",
      "source": [],
      "metadata": {
        "id": "w7Gm246ygKfY"
      },
      "execution_count": null,
      "outputs": []
    },
    {
      "cell_type": "code",
      "source": [],
      "metadata": {
        "id": "tsmkfs9DgKiA"
      },
      "execution_count": null,
      "outputs": []
    },
    {
      "cell_type": "markdown",
      "source": [
        "3. Verifique se existem valores ausentes no dataset. Quantifique-os."
      ],
      "metadata": {
        "id": "cIKVFT6DgKsI"
      }
    },
    {
      "cell_type": "code",
      "source": [],
      "metadata": {
        "id": "0L-y6_L5gN-g"
      },
      "execution_count": null,
      "outputs": []
    },
    {
      "cell_type": "code",
      "source": [],
      "metadata": {
        "id": "Nl1vUR45gOBY"
      },
      "execution_count": null,
      "outputs": []
    },
    {
      "cell_type": "markdown",
      "source": [
        "4. Converta a coluna Date para o tipo datetime e crie uma nova coluna com o dia da semana correspondente."
      ],
      "metadata": {
        "id": "v5ZhFTv2gORo"
      }
    },
    {
      "cell_type": "code",
      "source": [],
      "metadata": {
        "id": "RJsf8Iw9gQBZ"
      },
      "execution_count": null,
      "outputs": []
    },
    {
      "cell_type": "code",
      "source": [],
      "metadata": {
        "id": "UQEj4t1wgQKY"
      },
      "execution_count": null,
      "outputs": []
    },
    {
      "cell_type": "markdown",
      "source": [
        "5. Filtre os registros apenas do ano de 2007 e calcule a média de consumo diário de\n",
        "Global_active_power."
      ],
      "metadata": {
        "id": "Y9H22fwdgQYA"
      }
    },
    {
      "cell_type": "code",
      "source": [],
      "metadata": {
        "id": "eeUpN1z6gUgw"
      },
      "execution_count": null,
      "outputs": []
    },
    {
      "cell_type": "code",
      "source": [],
      "metadata": {
        "id": "6Mrzoky1gUlY"
      },
      "execution_count": null,
      "outputs": []
    },
    {
      "cell_type": "markdown",
      "source": [
        "6. Gere um gráfico de linha mostrando a variação de Global_active_power em um único dia à sua\n",
        "escolha"
      ],
      "metadata": {
        "id": "mJTY0DH6gXVI"
      }
    },
    {
      "cell_type": "code",
      "source": [],
      "metadata": {
        "id": "s9YuCKNUga1A"
      },
      "execution_count": null,
      "outputs": []
    },
    {
      "cell_type": "code",
      "source": [],
      "metadata": {
        "id": "P3GovUyQga7X"
      },
      "execution_count": null,
      "outputs": []
    },
    {
      "cell_type": "markdown",
      "source": [
        "7. Crie um histograma da variável Voltage. O que pode ser observado sobre sua distribuição?"
      ],
      "metadata": {
        "id": "8be1rOL5gbHh"
      }
    },
    {
      "cell_type": "code",
      "source": [],
      "metadata": {
        "id": "KE__-9CBgrOg"
      },
      "execution_count": null,
      "outputs": []
    },
    {
      "cell_type": "code",
      "source": [],
      "metadata": {
        "id": "D_xhym7BgrYI"
      },
      "execution_count": null,
      "outputs": []
    },
    {
      "cell_type": "markdown",
      "source": [
        "8. Calcule o consumo médio por mês em todo o período disponível no dataset."
      ],
      "metadata": {
        "id": "_STESf6OgrnI"
      }
    },
    {
      "cell_type": "code",
      "source": [],
      "metadata": {
        "id": "Rm28t2XVguDI"
      },
      "execution_count": null,
      "outputs": []
    },
    {
      "cell_type": "code",
      "source": [],
      "metadata": {
        "id": "SSjnG6sOguGI"
      },
      "execution_count": null,
      "outputs": []
    },
    {
      "cell_type": "markdown",
      "source": [
        "9. Identifique o dia com maior consumo de energia ativa global (Global_active_power)."
      ],
      "metadata": {
        "id": "flLMn5i4guMx"
      }
    },
    {
      "cell_type": "code",
      "source": [],
      "metadata": {
        "id": "0KyxD2w8gv-Q"
      },
      "execution_count": null,
      "outputs": []
    },
    {
      "cell_type": "code",
      "source": [],
      "metadata": {
        "id": "SEZPdf5YgwAo"
      },
      "execution_count": null,
      "outputs": []
    },
    {
      "cell_type": "markdown",
      "source": [
        "10. Compare o consumo médio de energia ativa global em dias de semana versus finais de\n",
        "semana."
      ],
      "metadata": {
        "id": "N9PcME1dgwIg"
      }
    },
    {
      "cell_type": "code",
      "source": [],
      "metadata": {
        "id": "UY5AHAucgzFg"
      },
      "execution_count": null,
      "outputs": []
    },
    {
      "cell_type": "code",
      "source": [],
      "metadata": {
        "id": "OfHzfSrqgzII"
      },
      "execution_count": null,
      "outputs": []
    },
    {
      "cell_type": "markdown",
      "source": [
        "11. Calcule a correlação entre as variáveis Global_active_power, Global_reactive_power, Voltage\n",
        "e Global_intensity."
      ],
      "metadata": {
        "id": "VgdfvoRRgzQ4"
      }
    },
    {
      "cell_type": "code",
      "source": [],
      "metadata": {
        "id": "yKppaavDg2BQ"
      },
      "execution_count": null,
      "outputs": []
    },
    {
      "cell_type": "code",
      "source": [],
      "metadata": {
        "id": "gCkXLLn9g2D4"
      },
      "execution_count": null,
      "outputs": []
    },
    {
      "cell_type": "markdown",
      "source": [
        "12. Crie uma nova variável chamada Total_Sub_metering que some Sub_metering_1,\n",
        "Sub_metering_2 e Sub_metering_3."
      ],
      "metadata": {
        "id": "x_kR7JStg2MI"
      }
    },
    {
      "cell_type": "code",
      "source": [],
      "metadata": {
        "id": "UicOD3rIg4lw"
      },
      "execution_count": null,
      "outputs": []
    },
    {
      "cell_type": "code",
      "source": [],
      "metadata": {
        "id": "1mU57FSUg4oI"
      },
      "execution_count": null,
      "outputs": []
    },
    {
      "cell_type": "markdown",
      "source": [
        "13. Verifique se há algum mês em que Total_Sub_metering ultrapassa a média de Global_active_power."
      ],
      "metadata": {
        "id": "D6h1-amTg4zo"
      }
    },
    {
      "cell_type": "code",
      "source": [],
      "metadata": {
        "id": "wZS0rELWg9OQ"
      },
      "execution_count": null,
      "outputs": []
    },
    {
      "cell_type": "code",
      "source": [],
      "metadata": {
        "id": "MrlNOHqmg9UI"
      },
      "execution_count": null,
      "outputs": []
    },
    {
      "cell_type": "markdown",
      "source": [
        "14. Faça um gráfico de série temporal do Voltage para o ano de 2008."
      ],
      "metadata": {
        "id": "i1u064ckg9Zw"
      }
    },
    {
      "cell_type": "code",
      "source": [],
      "metadata": {
        "id": "7Y0G_mdXg_iI"
      },
      "execution_count": null,
      "outputs": []
    },
    {
      "cell_type": "code",
      "source": [],
      "metadata": {
        "id": "HEkyucuJg_oA"
      },
      "execution_count": null,
      "outputs": []
    },
    {
      "cell_type": "markdown",
      "source": [
        "15. Compare o consumo entre os meses de verão e inverno (no hemisfério norte)."
      ],
      "metadata": {
        "id": "NWJejuhIg_tY"
      }
    },
    {
      "cell_type": "code",
      "source": [],
      "metadata": {
        "id": "uY1YvNAHhBkY"
      },
      "execution_count": null,
      "outputs": []
    },
    {
      "cell_type": "code",
      "source": [],
      "metadata": {
        "id": "l8RWtvZzhBwY"
      },
      "execution_count": null,
      "outputs": []
    },
    {
      "cell_type": "markdown",
      "source": [
        "16. Aplique uma amostragem aleatória de 1% dos dados e verifique se a distribuição de Global_active_power é semelhante à da base completa."
      ],
      "metadata": {
        "id": "lkvHUyUchB15"
      }
    },
    {
      "cell_type": "code",
      "source": [],
      "metadata": {
        "id": "Ki0YD7JphFSg"
      },
      "execution_count": null,
      "outputs": []
    },
    {
      "cell_type": "code",
      "source": [],
      "metadata": {
        "id": "6ToFZ4f_hFWv"
      },
      "execution_count": null,
      "outputs": []
    },
    {
      "cell_type": "markdown",
      "source": [
        "17. Utilize uma técnica de normalização (Min-Max Scaling) para padronizar as variáveis numéricas\n",
        "principais."
      ],
      "metadata": {
        "id": "D10lrGBohFco"
      }
    },
    {
      "cell_type": "code",
      "source": [],
      "metadata": {
        "id": "WoZqzlrPhIUI"
      },
      "execution_count": null,
      "outputs": []
    },
    {
      "cell_type": "code",
      "source": [],
      "metadata": {
        "id": "ClwyBw2jhIcg"
      },
      "execution_count": null,
      "outputs": []
    },
    {
      "cell_type": "markdown",
      "source": [
        "18. Aplique K-means para segmentar os dias em 3 grupos distintos de consumo elétrico. Interprete os resultados."
      ],
      "metadata": {
        "id": "816le2dJhIrA"
      }
    },
    {
      "cell_type": "code",
      "source": [],
      "metadata": {
        "id": "xyZ1WXAIhM_I"
      },
      "execution_count": null,
      "outputs": []
    },
    {
      "cell_type": "code",
      "source": [],
      "metadata": {
        "id": "cfifMGKihNFo"
      },
      "execution_count": null,
      "outputs": []
    },
    {
      "cell_type": "markdown",
      "source": [
        "19. Realize uma decomposição de série temporal (tendência, sazonalidade e resíduo) para Global_active_power em um período de 6 meses."
      ],
      "metadata": {
        "id": "i2laaFV7hNLg"
      }
    },
    {
      "cell_type": "code",
      "source": [],
      "metadata": {
        "id": "oLqcP7VZhQrY"
      },
      "execution_count": null,
      "outputs": []
    },
    {
      "cell_type": "code",
      "source": [],
      "metadata": {
        "id": "BwJ6Ml4AhRAg"
      },
      "execution_count": null,
      "outputs": []
    },
    {
      "cell_type": "markdown",
      "source": [
        "20. Treine um modelo de regressão linear simples para prever Global_active_power a partir de Global_intensity. Avalie o erro do modelo."
      ],
      "metadata": {
        "id": "plD-LivrhRHX"
      }
    },
    {
      "cell_type": "code",
      "source": [],
      "metadata": {
        "id": "Wp9NippEhUWo"
      },
      "execution_count": null,
      "outputs": []
    },
    {
      "cell_type": "code",
      "source": [],
      "metadata": {
        "id": "gGkyfmpJhUaw"
      },
      "execution_count": null,
      "outputs": []
    }
  ]
}